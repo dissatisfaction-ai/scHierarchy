{
 "cells": [
  {
   "cell_type": "code",
   "execution_count": null,
   "id": "7f51c100-e7c5-499e-8d55-82145a997d3c",
   "metadata": {},
   "outputs": [],
   "source": [
    "import sys\n",
    "\n",
    "#if installed somewhere else\n",
    "sys.path.insert(1, '/nfs/team205/vk7/sanger_projects/BayraktarLab/cell2location/')\n",
    "sys.path.insert(1, '/lustre/scratch119/casm/team299ly/al15/projects/scHierarchy/')\n",
    "\n",
    "import scanpy as sc\n",
    "import anndata\n",
    "import pandas as pd\n",
    "import numpy as np\n",
    "import matplotlib.pyplot as plt \n",
    "import matplotlib as mpl\n",
    "\n",
    "import cell2location\n",
    "import scvi\n",
    "import schierarchy\n",
    "\n",
    "from matplotlib import rcParams\n",
    "rcParams['pdf.fonttype'] = 42 # enables correct plotting of text\n",
    "import seaborn as sns"
   ]
  },
  {
   "cell_type": "code",
   "execution_count": null,
   "id": "db0a5b58-f850-4825-b7a5-344f2eb53375",
   "metadata": {},
   "outputs": [],
   "source": [
    "#location of scRNA data\n",
    "sc_data_folder = '/nfs/casm/team299ly/al15/projects/sc-breast/data_atlas/'\n",
    "#location where the result is stored \n",
    "results_folder = '/nfs/casm/team299ly/al15/projects/sc-breast/data_atlas/results/'\n",
    "\n",
    "#prefix for experiment\n",
    "ref_run_name = f'{results_folder}hierarchical_logist/'"
   ]
  },
  {
   "cell_type": "markdown",
   "id": "0a892146-efb1-4c2b-a4b9-39da51888bbb",
   "metadata": {},
   "source": [
    "## Load Breast cancer scRNA dataset"
   ]
  },
  {
   "cell_type": "code",
   "execution_count": null,
   "id": "8d257eb3-2399-447c-ae54-ad0a795afe08",
   "metadata": {},
   "outputs": [],
   "source": [
    "## read data\n",
    "adata_ref = anndata.read_h5ad(sc_data_folder + \"atals_processed.h5ad\")\n",
    "adata_ref.layers['processed'] = adata_ref.X\n",
    "#revert log transformation (if data is originally transformed)\n",
    "adata_ref.X = ((adata_ref.layers['processed'].expm1() / 10000).multiply(adata_ref.obs[['nCount_RNA']].values)).tocsr() #real data \n",
    "\n",
    "# mitochondrial genes\n",
    "adata_ref.var['mt'] = adata_ref.var_names.str.startswith('MT-') \n",
    "# ribosomal genes\n",
    "adata_ref.var['ribo'] = adata_ref.var_names.str.startswith((\"RPS\",\"RPL\"))\n",
    "# hemoglobin genes.\n",
    "adata_ref.var['hb'] = adata_ref.var_names.str.contains((\"^HB[^(P)]\"))\n",
    "\n",
    "#delete ribo mt and hb genes \n",
    "adata_ref = adata_ref[:, np.logical_and(np.logical_and(~adata_ref.var['mt'], ~adata_ref.var['ribo']), ~adata_ref.var['hb'])]"
   ]
  },
  {
   "cell_type": "markdown",
   "id": "e88ed26c-d3b4-464e-8513-82d1102bf65c",
   "metadata": {},
   "source": [
    "### Process single cell data"
   ]
  },
  {
   "cell_type": "code",
   "execution_count": null,
   "id": "9250e711-e373-4aea-8856-e28696ca1591",
   "metadata": {},
   "outputs": [],
   "source": [
    "# before we estimate the reference cell type signature we recommend to perform very permissive genes selection\n",
    "# in this 2D histogram orange rectangle lays over excluded genes.\n",
    "# In this case, the downloaded dataset was already filtered using this method,\n",
    "# hence no density under the orange rectangle\n",
    "from cell2location.utils.filtering import filter_genes\n",
    "selected = filter_genes(adata_ref, cell_count_cutoff=5, cell_percentage_cutoff2=0.03, nonz_mean_cutoff=1.12)\n",
    "adata_ref = adata_ref[:, selected].copy()\n",
    "\n",
    "#remove genes which are omnispread\n",
    "max_cutoff = (adata_ref.var['n_cells'] / adata_ref.n_obs) > 0.8\n",
    "print(f'% of genes expressed in more than 80% of cells {max_cutoff.mean()}')\n",
    "\n",
    "# filter the object\n",
    "adata_ref = adata_ref[:, ~max_cutoff].copy()"
   ]
  },
  {
   "cell_type": "code",
   "execution_count": null,
   "id": "c9540a8d-892e-4364-a0b4-d182e241bf83",
   "metadata": {},
   "outputs": [],
   "source": [
    "%%time\n",
    "#qunatile normalise log_transformed data, could be replaced with a transformation of your choice\n",
    "from schierarchy.utils.data_transformation import data_to_zero_truncated_cdf\n",
    "adata_ref.layers[\"cdf\"] = np.apply_along_axis(\n",
    "        data_to_zero_truncated_cdf, 0, adata_ref.layers[\"processed\"].toarray()\n",
    ")"
   ]
  },
  {
   "cell_type": "markdown",
   "id": "3cf6c2f7-c5ee-4fc4-8ae0-76d1c8b7b235",
   "metadata": {},
   "source": [
    "## Initialise and run the model"
   ]
  },
  {
   "cell_type": "code",
   "execution_count": null,
   "id": "43a42209-900d-4a1c-9be6-031aa9028f3a",
   "metadata": {},
   "outputs": [],
   "source": [
    "from schierarchy import LogisticModel\n",
    "\n",
    "#names of label columns from the most coarse to the most fine\n",
    "level_keys = ['celltype_major', 'celltype_minor', 'celltype_subset']\n",
    "\n",
    "LogisticModel.setup_anndata(adata_ref, layer=\"cdf\")"
   ]
  },
  {
   "cell_type": "code",
   "execution_count": null,
   "id": "edfb39e4-f98a-4a2d-b4e7-f16291ed7a11",
   "metadata": {},
   "outputs": [],
   "source": [
    "# train regression model to get signatures of cell types\n",
    "from schierarchy import LogisticModel\n",
    "learning_mode = 'fixed-sigma'\n",
    "mod = LogisticModel(adata_ref, level_keys=level_keys, laplace_learning_mode=learning_mode)\n",
    "\n",
    "# Use all data for training (validation not implemented yet, train_size=1)\n",
    "mod.train(max_epochs=600, batch_size=2500, train_size=1, lr=0.01, use_gpu=True)\n",
    "\n",
    "# plot ELBO loss history during training, removing first 20 epochs from the plot\n",
    "mod.plot_history(50)"
   ]
  },
  {
   "cell_type": "code",
   "execution_count": null,
   "id": "8b3fb8ca-c349-4a1f-8308-490877955c18",
   "metadata": {},
   "outputs": [],
   "source": [
    "%%time\n",
    "\n",
    "# In this section, we export the estimated gene weights and per-cell probabilities \n",
    "# (summary of the posterior distribution).\n",
    "adata_ref = mod.export_posterior(\n",
    "    adata_ref, sample_kwargs={'num_samples': 50, 'batch_size': 2500, 'use_gpu': True}\n",
    ")\n",
    "\n",
    "# Save model\n",
    "mod.save(f\"{ref_run_name}\", overwrite=True)\n",
    "\n",
    "# Save anndata object with results\n",
    "adata_file = f\"{ref_run_name}/sc.h5ad\"\n",
    "adata_ref.write(adata_file)\n",
    "adata_file"
   ]
  },
  {
   "cell_type": "markdown",
   "id": "206c4872-c283-48c0-8e10-0a5f06113f27",
   "metadata": {},
   "source": [
    "## Load model"
   ]
  },
  {
   "cell_type": "code",
   "execution_count": null,
   "id": "1fec3185-f973-494d-879c-106acc2ac45d",
   "metadata": {},
   "outputs": [],
   "source": [
    "#if you're not making predictions - just work with adata_file, it already has stored results \n",
    "model = LogisticModel.load(ref_run_name, adata_ref)\n",
    "adata_ref = model.export_posterior(\n",
    "    adata_ref, sample_kwargs={'num_samples': 50, 'batch_size': 2500, 'use_gpu': True}\n",
    ")"
   ]
  },
  {
   "cell_type": "markdown",
   "id": "504b907f-b12a-438d-a96a-51f3524d5b1d",
   "metadata": {},
   "source": [
    "## Visualise hierarchy of marker genes"
   ]
  },
  {
   "cell_type": "code",
   "execution_count": null,
   "id": "6423dfe8-8688-4567-bbaa-138438d50338",
   "metadata": {},
   "outputs": [],
   "source": [
    "adata_file = f\"{ref_run_name}/sc.h5ad\"\n",
    "adata_ref = sc.read(adata_file)"
   ]
  },
  {
   "cell_type": "code",
   "execution_count": null,
   "id": "d41bc1c8-a183-4e16-a38f-944e4b9b407f",
   "metadata": {},
   "outputs": [],
   "source": [
    "#complete slected gene plots \n",
    "gene_names = adata_ref.var['gene_ids'].values\n",
    "observed_labels = []\n",
    "\n",
    "selected_dcit = {}\n",
    "for level in level_keys:\n",
    "    for i, name in enumerate(adata_ref.obs[level].cat.categories):\n",
    "        weights = adata_ref.varm[f'means_weight_{level}'][f'means_weight_{level}_{name}'].values\n",
    "        top_n = np.argpartition(weights, -3)[-3:]\n",
    "        if name not in observed_labels:\n",
    "            selected_dcit[name] = gene_names[top_n]\n",
    "    fig = sc.pl.dotplot(adata_ref, selected_dcit, level, log=True, gene_symbols='gene_ids')"
   ]
  },
  {
   "cell_type": "code",
   "execution_count": null,
   "id": "4fdd013a-2f7e-40f4-8065-2d86d6ca5262",
   "metadata": {},
   "outputs": [],
   "source": [
    "ind = adata_ref.obs[level_keys[0]].isin(['T-cells'])\n",
    "adata_ref_subset = adata_ref[ind, :]\n",
    "\n",
    "gene_names = adata_ref.var['gene_ids'].values\n",
    "observed_labels = []\n",
    "\n",
    "\n",
    "for level in level_keys:\n",
    "    selected_dcit = {}\n",
    "    for i, name in enumerate(adata_ref_subset.obs[level].cat.categories):\n",
    "        weights = adata_ref_subset.varm[f'means_weight_{level}'][f'means_weight_{level}_{name}'].values\n",
    "        top_n = np.argpartition(weights, -5)[-5:]\n",
    "        if name not in observed_labels:\n",
    "            selected_dcit[name] = gene_names[top_n]\n",
    "        observed_labels.append(name)\n",
    "    ind = adata_ref_subset.obs[level].isin(list(selected_dcit.keys()))\n",
    "    adata_ref_subset_v2 = adata_ref_subset[ind, :]\n",
    "    if adata_ref_subset_v2.n_obs > 0:\n",
    "        fig = sc.pl.dotplot(adata_ref_subset_v2, selected_dcit, level, log=True, gene_symbols='gene_ids')"
   ]
  },
  {
   "cell_type": "code",
   "execution_count": null,
   "id": "0184e2b9-758e-498a-88a6-d62799739ecb",
   "metadata": {},
   "outputs": [],
   "source": []
  }
 ],
 "metadata": {
  "kernelspec": {
   "display_name": "Environment (schierarchy)",
   "language": "python",
   "name": "schierarchy"
  },
  "language_info": {
   "codemirror_mode": {
    "name": "ipython",
    "version": 3
   },
   "file_extension": ".py",
   "mimetype": "text/x-python",
   "name": "python",
   "nbconvert_exporter": "python",
   "pygments_lexer": "ipython3",
   "version": "3.9.7"
  }
 },
 "nbformat": 4,
 "nbformat_minor": 5
}
